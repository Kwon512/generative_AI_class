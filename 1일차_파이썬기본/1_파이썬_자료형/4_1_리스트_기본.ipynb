{
 "cells": [
  {
   "cell_type": "markdown",
   "metadata": {},
   "source": [
    "리스트 인덱싱"
   ]
  },
  {
   "cell_type": "code",
   "execution_count": 3,
   "metadata": {},
   "outputs": [
    {
     "name": "stdout",
     "output_type": "stream",
     "text": [
      "코딩\n",
      "운동\n",
      "책읽기\n"
     ]
    }
   ],
   "source": [
    "todo_list = [\"코딩\", \"운동\", \"책읽기\", \"산책\"]\n",
    "print(todo_list[0])\n",
    "print(todo_list[1])\n",
    "print(todo_list[2])"
   ]
  },
  {
   "cell_type": "markdown",
   "metadata": {},
   "source": [
    "리스트 슬라이싱"
   ]
  },
  {
   "cell_type": "code",
   "execution_count": 7,
   "metadata": {},
   "outputs": [
    {
     "name": "stdout",
     "output_type": "stream",
     "text": [
      "['코딩', '운동']\n",
      "['책읽기', '산책']\n",
      "['운동', '책읽기', '산책']\n"
     ]
    }
   ],
   "source": [
    "todo_list = [\"코딩\", \"운동\", \"책읽기\", \"산책\"]\n",
    "print(todo_list[:2])\n",
    "print(todo_list[2:4])\n",
    "print(todo_list[1:])"
   ]
  },
  {
   "cell_type": "markdown",
   "metadata": {},
   "source": [
    "리스트 데이터 수정"
   ]
  },
  {
   "cell_type": "code",
   "execution_count": 16,
   "metadata": {},
   "outputs": [
    {
     "name": "stdout",
     "output_type": "stream",
     "text": [
      "['코딩', '휴식', '자전거', '카페']\n"
     ]
    }
   ],
   "source": [
    "todo_list = [\"코딩\", \"운동\", \"책읽기\", \"산책\"]\n",
    "todo_list[1] = \"휴식\"\n",
    "todo_list[2:] = [\"자전거\", \"카페\"]\n",
    "print(todo_list)"
   ]
  },
  {
   "cell_type": "markdown",
   "metadata": {},
   "source": [
    "리스트 데이터 삭제"
   ]
  },
  {
   "cell_type": "code",
   "execution_count": 9,
   "metadata": {},
   "outputs": [
    {
     "name": "stdout",
     "output_type": "stream",
     "text": [
      "['코딩', '운동', '산책']\n"
     ]
    }
   ],
   "source": [
    "todo_list = [\"코딩\", \"운동\", \"책읽기\", \"산책\"]\n",
    "del todo_list[2]\n",
    "print(todo_list)"
   ]
  },
  {
   "cell_type": "markdown",
   "metadata": {},
   "source": [
    "리스트 연산 - 더하기"
   ]
  },
  {
   "cell_type": "code",
   "execution_count": 17,
   "metadata": {},
   "outputs": [
    {
     "name": "stdout",
     "output_type": "stream",
     "text": [
      "[1, 2, 3, 'A', 'B']\n"
     ]
    }
   ],
   "source": [
    "data_1 = [1,2,3]\n",
    "data_2 = [\"A\", \"B\"]\n",
    "data = data_1 + data_2\n",
    "print(data)"
   ]
  },
  {
   "cell_type": "markdown",
   "metadata": {},
   "source": [
    "리스트 연산 - 곱하기"
   ]
  },
  {
   "cell_type": "code",
   "execution_count": 18,
   "metadata": {},
   "outputs": [
    {
     "name": "stdout",
     "output_type": "stream",
     "text": [
      "[1, 2, 3, 1, 2, 3]\n"
     ]
    }
   ],
   "source": [
    "data_1 = [1,2,3]\n",
    "data = data_1*2\n",
    "print(data)"
   ]
  },
  {
   "cell_type": "code",
   "execution_count": null,
   "metadata": {},
   "outputs": [],
   "source": [
    "w"
   ]
  }
 ],
 "metadata": {
  "kernelspec": {
   "display_name": "Python 3",
   "language": "python",
   "name": "python3"
  },
  "language_info": {
   "codemirror_mode": {
    "name": "ipython",
    "version": 3
   },
   "file_extension": ".py",
   "mimetype": "text/x-python",
   "name": "python",
   "nbconvert_exporter": "python",
   "pygments_lexer": "ipython3",
   "version": "3.12.1"
  }
 },
 "nbformat": 4,
 "nbformat_minor": 2
}
