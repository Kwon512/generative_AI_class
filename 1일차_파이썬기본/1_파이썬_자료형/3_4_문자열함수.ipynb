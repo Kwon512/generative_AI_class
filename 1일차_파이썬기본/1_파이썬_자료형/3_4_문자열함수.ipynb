{
 "cells": [
  {
   "cell_type": "markdown",
   "metadata": {},
   "source": [
    "문자열길이구하기"
   ]
  },
  {
   "cell_type": "code",
   "execution_count": 3,
   "metadata": {},
   "outputs": [
    {
     "name": "stdout",
     "output_type": "stream",
     "text": [
      "문자열 길이는 14\n"
     ]
    }
   ],
   "source": [
    "min_data = '901212-1234567'\n",
    "print(\"문자열 길이는\", len(min_data))"
   ]
  },
  {
   "cell_type": "markdown",
   "metadata": {},
   "source": [
    "대소문자변환"
   ]
  },
  {
   "cell_type": "code",
   "execution_count": 4,
   "metadata": {},
   "outputs": [
    {
     "name": "stdout",
     "output_type": "stream",
     "text": [
      "대문자 변환 I LOVE YOU\n",
      "소문자 변환 i love you\n"
     ]
    }
   ],
   "source": [
    "text = \"I Love You\"\n",
    "print(\"대문자 변환\", text.upper())\n",
    "print(\"소문자 변환\", text.lower())"
   ]
  },
  {
   "cell_type": "markdown",
   "metadata": {},
   "source": [
    "문자열나누기"
   ]
  },
  {
   "cell_type": "code",
   "execution_count": 7,
   "metadata": {},
   "outputs": [
    {
     "name": "stdout",
     "output_type": "stream",
     "text": [
      "['I', 'Love', 'You']\n",
      "['I', 'Love', 'You']\n"
     ]
    }
   ],
   "source": [
    "text_1 = \"I Love You\"\n",
    "text_2 = \"I.Love.You\"\n",
    "print(text_1.split())\n",
    "print(text_2.split(\".\"))"
   ]
  },
  {
   "cell_type": "markdown",
   "metadata": {},
   "source": [
    "문자열 공백제거"
   ]
  },
  {
   "cell_type": "code",
   "execution_count": 2,
   "metadata": {},
   "outputs": [
    {
     "name": "stdout",
     "output_type": "stream",
     "text": [
      "python전체제거\n",
      "python  왼쪽제거\n",
      "  python오른쪽제거\n"
     ]
    }
   ],
   "source": [
    "text = \"  python  \"\n",
    "print(text.strip()+\"전체제거\")\n",
    "print(text.lstrip()+\"왼쪽제거\")\n",
    "print(text.rstrip()+\"오른쪽제거\")"
   ]
  },
  {
   "cell_type": "markdown",
   "metadata": {},
   "source": [
    "문자 교환하기"
   ]
  },
  {
   "cell_type": "code",
   "execution_count": 10,
   "metadata": {},
   "outputs": [
    {
     "name": "stdout",
     "output_type": "stream",
     "text": [
      "I hate you\n"
     ]
    }
   ],
   "source": [
    "text = \"I love you\"\n",
    "result = text.replace(\"love\", \"hate\")\n",
    "print(result)"
   ]
  },
  {
   "cell_type": "markdown",
   "metadata": {},
   "source": [
    "문자열 갯수 구하기"
   ]
  },
  {
   "cell_type": "code",
   "execution_count": 15,
   "metadata": {},
   "outputs": [
    {
     "name": "stdout",
     "output_type": "stream",
     "text": [
      "3000 만큼 사랑해\n"
     ]
    }
   ],
   "source": [
    "text = \"I love love love you\"\n",
    "result = text.count(\"love\")\n",
    "print(result*1000, \"만큼 사랑해\")"
   ]
  },
  {
   "cell_type": "code",
   "execution_count": null,
   "metadata": {},
   "outputs": [],
   "source": []
  }
 ],
 "metadata": {
  "kernelspec": {
   "display_name": "Python 3",
   "language": "python",
   "name": "python3"
  },
  "language_info": {
   "codemirror_mode": {
    "name": "ipython",
    "version": 3
   },
   "file_extension": ".py",
   "mimetype": "text/x-python",
   "name": "python",
   "nbconvert_exporter": "python",
   "pygments_lexer": "ipython3",
   "version": "3.12.1"
  }
 },
 "nbformat": 4,
 "nbformat_minor": 2
}
