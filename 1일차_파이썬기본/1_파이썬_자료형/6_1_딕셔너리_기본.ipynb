{
 "cells": [
  {
   "cell_type": "markdown",
   "metadata": {},
   "source": [
    "딕셔너리 기본 생성"
   ]
  },
  {
   "cell_type": "code",
   "execution_count": 9,
   "metadata": {},
   "outputs": [
    {
     "name": "stdout",
     "output_type": "stream",
     "text": [
      "{}\n",
      "{'콜라': 1500, '사이다': 1400}\n",
      "{'홍길동': 25, '김철수': 32}\n"
     ]
    }
   ],
   "source": [
    "dics = {}\n",
    "sales = {\"콜라\":1500, \"사이다\":1400}\n",
    "user_info = {\"홍길동\":25, \"김철수\":32}\n",
    "print(dics)\n",
    "print(sales)\n",
    "print(user_info)"
   ]
  },
  {
   "cell_type": "markdown",
   "metadata": {},
   "source": [
    "딕셔너리 접근 방법"
   ]
  },
  {
   "cell_type": "code",
   "execution_count": 6,
   "metadata": {},
   "outputs": [
    {
     "name": "stdout",
     "output_type": "stream",
     "text": [
      "1500\n"
     ]
    }
   ],
   "source": [
    "sales = {\"콜라\":1500, \"사이다\":1400}\n",
    "print(sales[\"콜라\"])"
   ]
  },
  {
   "cell_type": "markdown",
   "metadata": {},
   "source": [
    "딕셔너리 데이터 추가"
   ]
  },
  {
   "cell_type": "code",
   "execution_count": 8,
   "metadata": {},
   "outputs": [
    {
     "name": "stdout",
     "output_type": "stream",
     "text": [
      "{'콜라': 1500, '사이다': 1400, '바나나킥': 1500}\n"
     ]
    }
   ],
   "source": [
    "sales = {\"콜라\":1500, \"사이다\":1400}\n",
    "sales[\"바나나킥\"] = 1500\n",
    "print(sales)"
   ]
  },
  {
   "cell_type": "markdown",
   "metadata": {},
   "source": [
    "딕셔너리 데이터 삭제"
   ]
  },
  {
   "cell_type": "code",
   "execution_count": 10,
   "metadata": {},
   "outputs": [
    {
     "name": "stdout",
     "output_type": "stream",
     "text": [
      "{'사이다': 1400}\n"
     ]
    }
   ],
   "source": [
    "sales = {\"콜라\":1500, \"사이다\":1400}\n",
    "del sales[\"콜라\"]\n",
    "print(sales)"
   ]
  },
  {
   "cell_type": "markdown",
   "metadata": {},
   "source": [
    "딕셔너리 value 변경"
   ]
  },
  {
   "cell_type": "code",
   "execution_count": 11,
   "metadata": {},
   "outputs": [
    {
     "name": "stdout",
     "output_type": "stream",
     "text": [
      "{'콜라': 1700, '사이다': 1400}\n"
     ]
    }
   ],
   "source": [
    "sales = {\"콜라\":1500, \"사이다\":1400}\n",
    "sales[\"콜라\"] = 1700\n",
    "print(sales)"
   ]
  },
  {
   "cell_type": "markdown",
   "metadata": {},
   "source": [
    "keys 함수"
   ]
  },
  {
   "cell_type": "code",
   "execution_count": 15,
   "metadata": {},
   "outputs": [
    {
     "name": "stdout",
     "output_type": "stream",
     "text": [
      "dict_keys(['콜라', '사이다'])\n"
     ]
    }
   ],
   "source": [
    "sales = {\"콜라\":1500, \"사이다\":1400}\n",
    "print(sales.keys())"
   ]
  },
  {
   "cell_type": "markdown",
   "metadata": {},
   "source": [
    "items 함수"
   ]
  },
  {
   "cell_type": "code",
   "execution_count": 16,
   "metadata": {},
   "outputs": [
    {
     "name": "stdout",
     "output_type": "stream",
     "text": [
      "dict_items([('콜라', 1500), ('사이다', 1400)])\n"
     ]
    }
   ],
   "source": [
    "sales = {\"콜라\":1500, \"사이다\":1400}\n",
    "print(sales.items())"
   ]
  },
  {
   "cell_type": "markdown",
   "metadata": {},
   "source": [
    "values 함수"
   ]
  },
  {
   "cell_type": "code",
   "execution_count": 17,
   "metadata": {},
   "outputs": [
    {
     "name": "stdout",
     "output_type": "stream",
     "text": [
      "dict_values([1500, 1400])\n"
     ]
    }
   ],
   "source": [
    "sales = {\"콜라\":1500, \"사이다\":1400}\n",
    "print(sales.values())"
   ]
  },
  {
   "cell_type": "markdown",
   "metadata": {},
   "source": [
    "get 함수"
   ]
  },
  {
   "cell_type": "code",
   "execution_count": 18,
   "metadata": {},
   "outputs": [
    {
     "data": {
      "text/plain": [
       "1500"
      ]
     },
     "execution_count": 18,
     "metadata": {},
     "output_type": "execute_result"
    }
   ],
   "source": [
    "sales = {\"콜라\":1500, \"사이다\":1400}\n",
    "sales.get(\"콜라\")"
   ]
  },
  {
   "cell_type": "markdown",
   "metadata": {},
   "source": [
    "clear 함수"
   ]
  },
  {
   "cell_type": "code",
   "execution_count": 19,
   "metadata": {},
   "outputs": [
    {
     "name": "stdout",
     "output_type": "stream",
     "text": [
      "{}\n"
     ]
    }
   ],
   "source": [
    "sales = {\"콜라\":1500, \"사이다\":1400}\n",
    "sales.clear()\n",
    "print(sales)"
   ]
  },
  {
   "cell_type": "markdown",
   "metadata": {},
   "source": [
    "in 사용법"
   ]
  },
  {
   "cell_type": "code",
   "execution_count": 24,
   "metadata": {},
   "outputs": [
    {
     "name": "stdout",
     "output_type": "stream",
     "text": [
      "콜라:  True\n",
      "바나나킥:  False\n"
     ]
    }
   ],
   "source": [
    "sales = {\"콜라\":1500, \"사이다\":1400}\n",
    "print(\"콜라: \", \"콜라\" in sales)\n",
    "print(\"바나나킥: \", \"바나나킥\" in sales)"
   ]
  },
  {
   "cell_type": "markdown",
   "metadata": {},
   "source": []
  }
 ],
 "metadata": {
  "kernelspec": {
   "display_name": "Python 3",
   "language": "python",
   "name": "python3"
  },
  "language_info": {
   "codemirror_mode": {
    "name": "ipython",
    "version": 3
   },
   "file_extension": ".py",
   "mimetype": "text/x-python",
   "name": "python",
   "nbconvert_exporter": "python",
   "pygments_lexer": "ipython3",
   "version": "3.12.1"
  }
 },
 "nbformat": 4,
 "nbformat_minor": 2
}
