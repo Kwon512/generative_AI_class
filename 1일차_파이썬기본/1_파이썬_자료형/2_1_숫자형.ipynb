{
 "cells": [
  {
   "cell_type": "code",
   "execution_count": 1,
   "metadata": {},
   "outputs": [
    {
     "name": "stdout",
     "output_type": "stream",
     "text": [
      "10 -5 0\n"
     ]
    }
   ],
   "source": [
    "x = 10      # 양의 정수\n",
    "y = -5      # 음의 정수\n",
    "z = 0       # 0\n",
    "print(x, y, z)"
   ]
  },
  {
   "cell_type": "code",
   "execution_count": 2,
   "metadata": {},
   "outputs": [
    {
     "name": "stdout",
     "output_type": "stream",
     "text": [
      "3.14 -2.5 100000.0\n"
     ]
    }
   ],
   "source": [
    "a = 3.14    # 소수점을 포함하는 실수\n",
    "b = -2.5    # 음의 실수\n",
    "c = 1.0e5   # 지수 표현 (1.0 * 10^5)\n",
    "print(a, b, c)"
   ]
  },
  {
   "cell_type": "code",
   "execution_count": 3,
   "metadata": {},
   "outputs": [
    {
     "name": "stdout",
     "output_type": "stream",
     "text": [
      "8진수 값은 19\n",
      "16진수 값은 161\n"
     ]
    }
   ],
   "source": [
    "oct_num = 0o23   # 8진수로 표현 (2*8 + 3 = 19)\n",
    "hex_num = 0xA1  # 16진수로 표현 (A=10, 1=1, 10*16 + 1 = 161)\n",
    "print(\"8진수 값은\", oct_num)\n",
    "print(\"16진수 값은\", hex_num)"
   ]
  },
  {
   "cell_type": "code",
   "execution_count": null,
   "metadata": {},
   "outputs": [],
   "source": [
    "hex_num = 0xA1  # 16진수로 표현 (A=10, 1=1, 10*16 + 1 = 161)"
   ]
  },
  {
   "cell_type": "code",
   "execution_count": 1,
   "metadata": {},
   "outputs": [],
   "source": [
    "a = 5\n",
    "b = 2"
   ]
  },
  {
   "cell_type": "code",
   "execution_count": 2,
   "metadata": {},
   "outputs": [
    {
     "name": "stdout",
     "output_type": "stream",
     "text": [
      "더하기 결과: 7\n"
     ]
    }
   ],
   "source": [
    "print(\"더하기 결과:\", a+b)"
   ]
  },
  {
   "cell_type": "code",
   "execution_count": 3,
   "metadata": {},
   "outputs": [
    {
     "name": "stdout",
     "output_type": "stream",
     "text": [
      "빼기 결과: 3\n"
     ]
    }
   ],
   "source": [
    "print(\"빼기 결과:\", a-b)"
   ]
  },
  {
   "cell_type": "code",
   "execution_count": 4,
   "metadata": {},
   "outputs": [
    {
     "name": "stdout",
     "output_type": "stream",
     "text": [
      "나누기 결과: 2.5\n"
     ]
    }
   ],
   "source": [
    "print(\"나누기 결과:\", a/b)"
   ]
  },
  {
   "cell_type": "code",
   "execution_count": 5,
   "metadata": {},
   "outputs": [
    {
     "name": "stdout",
     "output_type": "stream",
     "text": [
      "곱하기 결과: 10\n"
     ]
    }
   ],
   "source": [
    "print(\"곱하기 결과:\", a*b)"
   ]
  },
  {
   "cell_type": "code",
   "execution_count": 6,
   "metadata": {},
   "outputs": [
    {
     "name": "stdout",
     "output_type": "stream",
     "text": [
      "제곱 결과: 25\n"
     ]
    }
   ],
   "source": [
    "print(\"제곱 결과:\", a**b)"
   ]
  },
  {
   "cell_type": "code",
   "execution_count": 7,
   "metadata": {},
   "outputs": [
    {
     "name": "stdout",
     "output_type": "stream",
     "text": [
      "나머지 결과: 1\n"
     ]
    }
   ],
   "source": [
    "print(\"나머지 결과:\", a%b)"
   ]
  },
  {
   "cell_type": "code",
   "execution_count": 8,
   "metadata": {},
   "outputs": [
    {
     "name": "stdout",
     "output_type": "stream",
     "text": [
      "몫 결과: 2\n"
     ]
    }
   ],
   "source": [
    "print(\"몫 결과:\", a//b)"
   ]
  },
  {
   "cell_type": "code",
   "execution_count": null,
   "metadata": {},
   "outputs": [],
   "source": []
  },
  {
   "cell_type": "code",
   "execution_count": null,
   "metadata": {},
   "outputs": [],
   "source": []
  }
 ],
 "metadata": {
  "kernelspec": {
   "display_name": "Python 3",
   "language": "python",
   "name": "python3"
  },
  "language_info": {
   "codemirror_mode": {
    "name": "ipython",
    "version": 3
   },
   "file_extension": ".py",
   "mimetype": "text/x-python",
   "name": "python",
   "nbconvert_exporter": "python",
   "pygments_lexer": "ipython3",
   "version": "3.12.1"
  }
 },
 "nbformat": 4,
 "nbformat_minor": 2
}
