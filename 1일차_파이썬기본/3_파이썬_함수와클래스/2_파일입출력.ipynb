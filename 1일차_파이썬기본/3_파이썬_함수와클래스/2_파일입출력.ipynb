{
 "cells": [
  {
   "cell_type": "markdown",
   "metadata": {},
   "source": [
    "input함수 - 사용자로부터 키보드 입력"
   ]
  },
  {
   "cell_type": "code",
   "execution_count": 9,
   "metadata": {},
   "outputs": [
    {
     "name": "stdout",
     "output_type": "stream",
     "text": [
      "안녕하세요, 홍길동 님!\n"
     ]
    }
   ],
   "source": [
    "name = input(\"이름을 입력하세요: \")\n",
    "print(\"안녕하세요,\", name, \"님!\")"
   ]
  },
  {
   "cell_type": "markdown",
   "metadata": {},
   "source": [
    "print함수 - 자세히"
   ]
  },
  {
   "cell_type": "code",
   "execution_count": 11,
   "metadata": {},
   "outputs": [
    {
     "name": "stdout",
     "output_type": "stream",
     "text": [
      "홍길동님 안녕하세요\n"
     ]
    }
   ],
   "source": [
    "print(\"홍길동님\", \"안녕하세요\")"
   ]
  },
  {
   "cell_type": "code",
   "execution_count": 7,
   "metadata": {},
   "outputs": [
    {
     "name": "stdout",
     "output_type": "stream",
     "text": [
      "홍길동, 25, 010-0000-0000\n",
      "홍길동 / 25 / 010-0000-0000\n"
     ]
    }
   ],
   "source": [
    "name = \"홍길동\" \n",
    "age = 25 \n",
    "phone = \"010-0000-0000\"  \n",
    "print(name, age, phone, sep = ', ') \n",
    "print(name, age, phone, sep = ' / ')"
   ]
  },
  {
   "cell_type": "code",
   "execution_count": 6,
   "metadata": {},
   "outputs": [
    {
     "name": "stdout",
     "output_type": "stream",
     "text": [
      "홍길동\n",
      "25\n",
      "010-0000-0000\n",
      "홍길동 25, 010-0000-0000 "
     ]
    }
   ],
   "source": [
    "name = \"홍길동\" \n",
    "age = 25 \n",
    "phone = \"010-0000-0000\" \n",
    "print(name)\n",
    "print(age)\n",
    "print(phone)\n",
    "print(name, end = ' ')\n",
    "print(age, end = ', ')\n",
    "print(phone, end = ' ')"
   ]
  },
  {
   "cell_type": "markdown",
   "metadata": {},
   "source": [
    "파일생성"
   ]
  },
  {
   "cell_type": "code",
   "execution_count": 44,
   "metadata": {},
   "outputs": [],
   "source": [
    "name_list = [\"김철수\", \"홍길동\", \"파이썬\"]\n",
    "f = open(\"names.txt\", \"w\")\n",
    "for name in name_list:\n",
    "    f.write(name + \"\\n\")\n",
    "f.close()"
   ]
  },
  {
   "cell_type": "code",
   "execution_count": 45,
   "metadata": {},
   "outputs": [],
   "source": [
    "name_list = [\"김철수\", \"홍길동\", \"파이썬\"]\n",
    "with open(\"names_with.txt\", \"w\") as f:\n",
    "    for name in name_list:\n",
    "        f.write(name + \"\\n\")"
   ]
  },
  {
   "cell_type": "markdown",
   "metadata": {},
   "source": [
    "파일 읽기"
   ]
  },
  {
   "cell_type": "code",
   "execution_count": 46,
   "metadata": {},
   "outputs": [
    {
     "name": "stdout",
     "output_type": "stream",
     "text": [
      "김철수\n",
      "홍길동\n",
      "파이썬\n",
      "\n"
     ]
    }
   ],
   "source": [
    "with open(\"names.txt\", \"r\") as f:\n",
    "    data = f.read()\n",
    "    print(data)"
   ]
  },
  {
   "cell_type": "code",
   "execution_count": 47,
   "metadata": {},
   "outputs": [
    {
     "name": "stdout",
     "output_type": "stream",
     "text": [
      "['김철수\\n', '홍길동\\n', '파이썬\\n']\n"
     ]
    }
   ],
   "source": [
    "with open(\"names.txt\", \"r\") as f:\n",
    "    data = f.readlines()\n",
    "    print(data)"
   ]
  },
  {
   "cell_type": "code",
   "execution_count": 48,
   "metadata": {},
   "outputs": [
    {
     "name": "stdout",
     "output_type": "stream",
     "text": [
      "김철수\n",
      "\n",
      "홍길동\n",
      "\n",
      "파이썬\n",
      "\n"
     ]
    }
   ],
   "source": [
    "with open(\"names.txt\", \"r\") as f:\n",
    "    while True:\n",
    "        data = f.readline()\n",
    "        if data == \"\":\n",
    "            break\n",
    "        print(data)"
   ]
  },
  {
   "cell_type": "code",
   "execution_count": 49,
   "metadata": {},
   "outputs": [
    {
     "name": "stdout",
     "output_type": "stream",
     "text": [
      "['김철수\\n', '홍길동\\n', '파이썬\\n', '손흥민\\n']\n"
     ]
    }
   ],
   "source": [
    "with open(\"names.txt\", \"a\") as f:\n",
    "    f.write(\"손흥민\"+\"\\n\")\n",
    "with open(\"names.txt\", \"r\") as f:\n",
    "    data = f.readlines()\n",
    "    print(data)"
   ]
  },
  {
   "cell_type": "code",
   "execution_count": null,
   "metadata": {},
   "outputs": [],
   "source": []
  }
 ],
 "metadata": {
  "kernelspec": {
   "display_name": "Python 3",
   "language": "python",
   "name": "python3"
  },
  "language_info": {
   "codemirror_mode": {
    "name": "ipython",
    "version": 3
   },
   "file_extension": ".py",
   "mimetype": "text/x-python",
   "name": "python",
   "nbconvert_exporter": "python",
   "pygments_lexer": "ipython3",
   "version": "3.12.1"
  }
 },
 "nbformat": 4,
 "nbformat_minor": 2
}
