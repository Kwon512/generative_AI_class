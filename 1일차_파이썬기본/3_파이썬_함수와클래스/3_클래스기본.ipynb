{
 "cells": [
  {
   "cell_type": "markdown",
   "metadata": {},
   "source": [
    "클래스 기본"
   ]
  },
  {
   "cell_type": "code",
   "execution_count": 84,
   "metadata": {},
   "outputs": [
    {
     "name": "stdout",
     "output_type": "stream",
     "text": [
      "이름을 등록해주세요\n",
      "홍길동\n"
     ]
    }
   ],
   "source": [
    "class UserDataBasic:\n",
    "    name = \"이름을 등록해주세요\"\n",
    "    \n",
    "user_1 = UserDataBasic()\n",
    "print(user_1.name)\n",
    "\n",
    "user_2 = UserDataBasic()\n",
    "user_2.name = \"홍길동\"\n",
    "print(user_2.name)\n"
   ]
  },
  {
   "cell_type": "markdown",
   "metadata": {},
   "source": [
    "클래스 메서드 등록"
   ]
  },
  {
   "cell_type": "code",
   "execution_count": 87,
   "metadata": {},
   "outputs": [
    {
     "name": "stdout",
     "output_type": "stream",
     "text": [
      "홍길동\n"
     ]
    }
   ],
   "source": [
    "class UserDataMethod:\n",
    "    def set_name(self, name):\n",
    "        self.name = name\n",
    "    def get_name(self):\n",
    "        return self.name\n",
    "\n",
    "user = UserDataMethod()\n",
    "user.set_name(\"홍길동\")\n",
    "print(user.get_name())"
   ]
  },
  {
   "cell_type": "markdown",
   "metadata": {},
   "source": [
    "클래스 생성자 매개변수"
   ]
  },
  {
   "cell_type": "code",
   "execution_count": 107,
   "metadata": {},
   "outputs": [
    {
     "name": "stdout",
     "output_type": "stream",
     "text": [
      "미지정\n",
      "****\n",
      "****@****.com\n"
     ]
    }
   ],
   "source": [
    "class UserDataInit_1:\n",
    "    def __init__(self):\n",
    "        self.name = \"미지정\"\n",
    "        self.password = \"****\"\n",
    "        self.email = \"****@****.com\"\n",
    "    def get_info(self):\n",
    "        print(self.name)\n",
    "        print(self.password)\n",
    "        print(self.email)\n",
    "\n",
    "user = UserDataInit_1()\n",
    "user.get_info()"
   ]
  },
  {
   "cell_type": "code",
   "execution_count": 106,
   "metadata": {},
   "outputs": [
    {
     "name": "stdout",
     "output_type": "stream",
     "text": [
      "홍길동\n",
      "1234\n",
      "1234@1234.com\n"
     ]
    }
   ],
   "source": [
    "class UserDataInit_2:\n",
    "    def __init__(self, name, password, email):\n",
    "        self.name = name\n",
    "        self.password = password\n",
    "        self.email = email\n",
    "    def get_info(self):\n",
    "        print(self.name)\n",
    "        print(self.password)\n",
    "        print(self.email)\n",
    "\n",
    "user = UserDataInit_2(\"홍길동\", \"1234\", \"1234@1234.com\")\n",
    "user.get_info()"
   ]
  },
  {
   "cell_type": "markdown",
   "metadata": {},
   "source": [
    "클래스 상속"
   ]
  },
  {
   "cell_type": "code",
   "execution_count": 108,
   "metadata": {},
   "outputs": [
    {
     "name": "stdout",
     "output_type": "stream",
     "text": [
      "('name', '홍길동')\n",
      "('password', '1234')\n",
      "('email', '1234@1234.com')\n",
      "('age', 25)\n"
     ]
    }
   ],
   "source": [
    "class UserData:\n",
    "    def __init__(self, name, password, email):\n",
    "        self.name = name\n",
    "        self.password = password\n",
    "        self.email = email\n",
    "    def get_info(self):\n",
    "        for data in self.__dict__.items():\n",
    "            print(data)\n",
    "\n",
    "class UserDataChild(UserData):\n",
    "    def add_info(self, age):\n",
    "        self.age = age\n",
    "\n",
    "child = UserDataChild(\"홍길동\", \"1234\", \"1234@1234.com\")\n",
    "child.add_info(25)\n",
    "child.get_info()"
   ]
  },
  {
   "cell_type": "code",
   "execution_count": null,
   "metadata": {},
   "outputs": [],
   "source": []
  }
 ],
 "metadata": {
  "kernelspec": {
   "display_name": "Python 3",
   "language": "python",
   "name": "python3"
  },
  "language_info": {
   "codemirror_mode": {
    "name": "ipython",
    "version": 3
   },
   "file_extension": ".py",
   "mimetype": "text/x-python",
   "name": "python",
   "nbconvert_exporter": "python",
   "pygments_lexer": "ipython3",
   "version": "3.12.1"
  }
 },
 "nbformat": 4,
 "nbformat_minor": 2
}
