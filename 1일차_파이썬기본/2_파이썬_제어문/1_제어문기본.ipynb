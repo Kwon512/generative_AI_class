{
 "cells": [
  {
   "cell_type": "markdown",
   "metadata": {},
   "source": [
    "#### 제어문 기본 구조 - if 구문\n",
    "찾는 물건이 콜라라면 \"A 코너로 가세요 \"를 출력"
   ]
  },
  {
   "cell_type": "code",
   "execution_count": 1,
   "metadata": {},
   "outputs": [
    {
     "name": "stdout",
     "output_type": "stream",
     "text": [
      "A 코너로 가세요\n"
     ]
    }
   ],
   "source": [
    "search = \"콜라\"\n",
    "if search == \"콜라\":\n",
    "    print(\"A 코너로 가세요\")"
   ]
  },
  {
   "cell_type": "code",
   "execution_count": 13,
   "metadata": {},
   "outputs": [
    {
     "name": "stdout",
     "output_type": "stream",
     "text": [
      "A-1 코너로 가세요\n"
     ]
    }
   ],
   "source": [
    "search = \"콜라\"\n",
    "size = 500\n",
    "if search == \"콜라\" and size == 500:\n",
    "    print(\"A-1 코너로 가세요\")"
   ]
  },
  {
   "cell_type": "markdown",
   "metadata": {},
   "source": [
    "조건문 오류 - 콜론 오류"
   ]
  },
  {
   "cell_type": "code",
   "execution_count": 4,
   "metadata": {},
   "outputs": [
    {
     "ename": "SyntaxError",
     "evalue": "expected ':' (1236282515.py, line 2)",
     "output_type": "error",
     "traceback": [
      "\u001b[1;36m  Cell \u001b[1;32mIn[4], line 2\u001b[1;36m\u001b[0m\n\u001b[1;33m    if search == \"콜라\"\u001b[0m\n\u001b[1;37m                     ^\u001b[0m\n\u001b[1;31mSyntaxError\u001b[0m\u001b[1;31m:\u001b[0m expected ':'\n"
     ]
    }
   ],
   "source": [
    "search = \"콜라\"\n",
    "if search == \"콜라\"\n",
    "    print(\"A 코너로 가세요\")"
   ]
  },
  {
   "cell_type": "markdown",
   "metadata": {},
   "source": [
    "조건문 오류 - 들여쓰기 오류"
   ]
  },
  {
   "cell_type": "code",
   "execution_count": 5,
   "metadata": {},
   "outputs": [
    {
     "ename": "IndentationError",
     "evalue": "expected an indented block after 'if' statement on line 2 (2784631643.py, line 3)",
     "output_type": "error",
     "traceback": [
      "\u001b[1;36m  Cell \u001b[1;32mIn[5], line 3\u001b[1;36m\u001b[0m\n\u001b[1;33m    print(\"A 코너로 가세요\")\u001b[0m\n\u001b[1;37m    ^\u001b[0m\n\u001b[1;31mIndentationError\u001b[0m\u001b[1;31m:\u001b[0m expected an indented block after 'if' statement on line 2\n"
     ]
    }
   ],
   "source": [
    "search = \"콜라\"\n",
    "if search == \"콜라\":\n",
    "print(\"A 코너로 가세요\")"
   ]
  },
  {
   "cell_type": "code",
   "execution_count": 6,
   "metadata": {},
   "outputs": [
    {
     "ename": "IndentationError",
     "evalue": "unexpected indent (3132437900.py, line 4)",
     "output_type": "error",
     "traceback": [
      "\u001b[1;36m  Cell \u001b[1;32mIn[6], line 4\u001b[1;36m\u001b[0m\n\u001b[1;33m    print(\"A 코너로 가세요\")\u001b[0m\n\u001b[1;37m    ^\u001b[0m\n\u001b[1;31mIndentationError\u001b[0m\u001b[1;31m:\u001b[0m unexpected indent\n"
     ]
    }
   ],
   "source": [
    "search = \"콜라\"\n",
    "if search == \"콜라\":\n",
    "    print(\"A 코너로 가세요\")\n",
    "        print(\"A 코너로 가세요\")"
   ]
  },
  {
   "cell_type": "markdown",
   "metadata": {},
   "source": [
    "if ~ else 구문"
   ]
  },
  {
   "cell_type": "code",
   "execution_count": 7,
   "metadata": {},
   "outputs": [
    {
     "name": "stdout",
     "output_type": "stream",
     "text": [
      "직원에게 물어보세요\n"
     ]
    }
   ],
   "source": [
    "search = \"사이다\"\n",
    "if search == \"콜라\":\n",
    "    print(\"A 코너로 가세요\")\n",
    "else:\n",
    "    print(\"직원에게 물어보세요\")"
   ]
  },
  {
   "cell_type": "markdown",
   "metadata": {},
   "source": [
    "if ~ elif ~ else 구문"
   ]
  },
  {
   "cell_type": "code",
   "execution_count": 8,
   "metadata": {},
   "outputs": [
    {
     "name": "stdout",
     "output_type": "stream",
     "text": [
      "B 코너로 가세요\n"
     ]
    }
   ],
   "source": [
    "search = \"사이다\"\n",
    "if search == \"콜라\":\n",
    "    print(\"A 코너로 가세요\")\n",
    "elif search == \"사이다\":\n",
    "    print(\"B 코너로 가세요\")\n",
    "else:\n",
    "    print(\"직원에게 물어보세요\")"
   ]
  },
  {
   "cell_type": "markdown",
   "metadata": {},
   "source": [
    "다양한 조건문 - 중첩, 리스트확인"
   ]
  },
  {
   "cell_type": "code",
   "execution_count": 11,
   "metadata": {},
   "outputs": [
    {
     "name": "stdout",
     "output_type": "stream",
     "text": [
      "커피를 사야 합니다\n",
      "과자는 있습니다\n"
     ]
    }
   ],
   "source": [
    "bag = [\"콜라\", \"과자\", \"라면\", \"프로틴\"]\n",
    "if \"커피\" not in bag:\n",
    "    print(\"커피를 사야 합니다\")\n",
    "    if \"과자\" not in bag:\n",
    "        print(\"과자도 사야합니다\")\n",
    "    else:\n",
    "        print(\"과자는 있습니다\")\n",
    "else:\n",
    "    print(\"커피는 샀습니다\")"
   ]
  },
  {
   "cell_type": "markdown",
   "metadata": {},
   "source": [
    "다양한 조건문 - pass"
   ]
  },
  {
   "cell_type": "code",
   "execution_count": 12,
   "metadata": {},
   "outputs": [],
   "source": [
    "bag = [\"콜라\", \"과자\", \"라면\", \"프로틴\"]\n",
    "if \"프로틴\" in bag:\n",
    "    pass\n",
    "else:\n",
    "    print(\"단백질 챙겨봅시다\")"
   ]
  },
  {
   "cell_type": "code",
   "execution_count": null,
   "metadata": {},
   "outputs": [],
   "source": []
  }
 ],
 "metadata": {
  "kernelspec": {
   "display_name": "Python 3",
   "language": "python",
   "name": "python3"
  },
  "language_info": {
   "codemirror_mode": {
    "name": "ipython",
    "version": 3
   },
   "file_extension": ".py",
   "mimetype": "text/x-python",
   "name": "python",
   "nbconvert_exporter": "python",
   "pygments_lexer": "ipython3",
   "version": "3.12.1"
  }
 },
 "nbformat": 4,
 "nbformat_minor": 2
}
