{
 "cells": [
  {
   "cell_type": "code",
   "execution_count": 1,
   "metadata": {},
   "outputs": [
    {
     "name": "stdout",
     "output_type": "stream",
     "text": [
      "{\n",
      "\t\"lastBuildDate\":\"Wed, 28 Feb 2024 22:37:45 +0900\",\n",
      "\t\"total\":40772992,\n",
      "\t\"start\":1,\n",
      "\t\"display\":10,\n",
      "\t\"items\":[\n",
      "\t\t{\n",
      "\t\t\t\"title\":\"핸드드립 <b>커피<\\/b> 정수기 스팀100 바리스타 정수기 사용후기\",\n",
      "\t\t\t\"link\":\"https:\\/\\/blog.naver.com\\/thwjddla\\/223367139717\",\n",
      "\t\t\t\"description\":\"<b>커피<\\/b> 좋아하면 누구나 꿈꾸는 홈카페가 저희집에도 드디어 생겼어요. 나만을 위해 섬세하게 맛과 물의 온도를 조절해 <b>커피<\\/b>를 내려먹을 수 있어서 좋더라고요. 따로 <b>커피<\\/b>머신을 준비할 필요 없어서 주방 공간... \",\n",
      "\t\t\t\"bloggername\":\"유니콘 형제 육아, 반려견 다온이❤️\",\n",
      "\t\t\t\"bloggerlink\":\"blog.naver.com\\/thwjddla\",\n",
      "\t\t\t\"postdate\":\"20240227\"\n",
      "\t\t},\n",
      "\t\t{\n",
      "\t\t\t\"title\":\"스타필드 수원 미루꾸 <b>커피<\\/b> 플랫너티\",\n",
      "\t\t\t\"link\":\"https:\\/\\/blog.naver.com\\/younah10\\/223367086776\",\n",
      "\t\t\t\"description\":\"미루꾸 <b>커피<\\/b> mirukku 스타필드 처음 왔을 때 줄 길게 서 있고 미루꾸 라는 이름만 보고 아이스크림 파는 곳 인줄 알아서 그냥 지나갔는데 알고보니 일산에서 유명한 카페 였더라구요 미루꾸 <b>커피<\\/b> mirukku, 영업시간... \",\n",
      "\t\t\t\"bloggername\":\"HIPPOHOO : D\",\n",
      "\t\t\t\"bloggerlink\":\"blog.naver.com\\/younah10\",\n",
      "\t\t\t\"postdate\":\"20240227\"\n",
      "\t\t},\n",
      "\t\t{\n",
      "\t\t\t\"title\":\"도쿄 롯폰기 카페 분위기 좋은 VERVE 벌브<b>커피<\\/b>\",\n",
      "\t\t\t\"link\":\"https:\\/\\/blog.naver.com\\/jejuna17\\/223367527883\",\n",
      "\t\t\t\"description\":\"도쿄 롯폰기 카페 분위기 좋은 VERVE 벌브<b>커피<\\/b> 일본은 음식은 참 맛있는데 아쉽게도 <b>커피<\\/b>맛은 영 별로인 듯^_ㅠ 그래도 <b>커피<\\/b>를 안 마실 순 없어서 구글맵에 <b>커피<\\/b> 맛있다는 카페를 찾아봄ㅋㅋ 그렇게 오빠가... \",\n",
      "\t\t\t\"bloggername\":\"오름언니 블로그ღ’ᴗ’ღ\",\n",
      "\t\t\t\"bloggerlink\":\"blog.naver.com\\/jejuna17\",\n",
      "\t\t\t\"postdate\":\"20240228\"\n",
      "\t\t},\n",
      "\t\t{\n",
      "\t\t\t\"title\":\"신방동카페 통정<b>커피<\\/b>미식가 천안프렌치 토스트 굿\",\n",
      "\t\t\t\"link\":\"https:\\/\\/blog.naver.com\\/sensefull7\\/223365469276\",\n",
      "\t\t\t\"description\":\"오랫만에 동네 맛난 <b>커피<\\/b>맛집을 찾았다. 오며가며 보긴 했는데 잘 알진 못했던 곳~ 신방통정 카페 <b>커피<\\/b>미식가! 오각형 외관 건물이 한눈에 들어온다. 통정지구는 비교적 주차가 편리한 편이여서 좋다. 매장... \",\n",
      "\t\t\t\"bloggername\":\"sensefull's travel\",\n",
      "\t\t\t\"bloggerlink\":\"blog.naver.com\\/sensefull7\",\n",
      "\t\t\t\"postdate\":\"20240226\"\n",
      "\t\t},\n",
      "\t\t{\n",
      "\t\t\t\"title\":\"창원 용호동카페 드립<b>커피<\\/b> 맛집 &quot;포엠<b>커피<\\/b>웍스&quot;\",\n",
      "\t\t\t\"link\":\"https:\\/\\/blog.naver.com\\/letaru\\/223367107123\",\n",
      "\t\t\t\"description\":\"창원 가로수길 X , 창원 세로수길에 <b>커피<\\/b>가 참 맛있다는 카페가 있어서 주말 아침에 모닝<b>커피<\\/b> 마시러 '포엠<b>커피<\\/b>웍스' 에 갔다. 세로수길 입구의 '라이프워크' 에서 조금만 내려가다 보면 '모챠모챠' 바로 다음에... \",\n",
      "\t\t\t\"bloggername\":\"암호화폐 천재가 된 홍대리\",\n",
      "\t\t\t\"bloggerlink\":\"blog.naver.com\\/letaru\",\n",
      "\t\t\t\"postdate\":\"20240227\"\n",
      "\t\t},\n",
      "\t\t{\n",
      "\t\t\t\"title\":\"Feima600 페이마 전동<b>커피<\\/b>그라인더 사용후기\",\n",
      "\t\t\t\"link\":\"https:\\/\\/blog.naver.com\\/skyskin\\/223366005267\",\n",
      "\t\t\t\"description\":\"한달정도 사용한 페이마600 전동 <b>커피<\\/b> 그라인더 사용기를 시작한다. 사진은 언박싱때 찍어둔 사진이다. 회사에서 5년동안 사용하던 내돈내산 개인그라인더를 대신해 회사에서 사용할 <b>커피<\\/b> 그라인더를... \",\n",
      "\t\t\t\"bloggername\":\"울산우쿨렐레전문점. '만디' 입니다.\",\n",
      "\t\t\t\"bloggerlink\":\"blog.naver.com\\/skyskin\",\n",
      "\t\t\t\"postdate\":\"20240226\"\n",
      "\t\t},\n",
      "\t\t{\n",
      "\t\t\t\"title\":\"우붓 찐 맛집 Sala - <b>커피<\\/b> 브런치 전부다 엄지척\",\n",
      "\t\t\t\"link\":\"https:\\/\\/blog.naver.com\\/likez2\\/223359041271\",\n",
      "\t\t\t\"description\":\"우붓 찐 맛집 Sala <b>커피<\\/b> 브런치 전부다 엄지척 안녕하세요! 이번에 우붓에 새로 오픈한 신상 카페가... 사실 저희는 아침일찍 <b>커피<\\/b>에 빵이나 먹으러 간거였거든요? 근데 메뉴 보고, 저 조식메뉴 99K를 보고... \",\n",
      "\t\t\t\"bloggername\":\"오늘은 또 어디로-\",\n",
      "\t\t\t\"bloggerlink\":\"blog.naver.com\\/likez2\",\n",
      "\t\t\t\"postdate\":\"20240227\"\n",
      "\t\t},\n",
      "\t\t{\n",
      "\t\t\t\"title\":\"베트남 다낭 기념품 베트남위즐<b>커피<\\/b> 선물 고맙소\",\n",
      "\t\t\t\"link\":\"https:\\/\\/blog.naver.com\\/fromrei8\\/223365276174\",\n",
      "\t\t\t\"description\":\"너의 베트남 다낭 기념품 덕분에 베트남 위즐<b>커피<\\/b> 마셔봤다 얼마 전 비행기 타고 우리 집으로 날라온 낯선 베트남 <b>커피<\\/b>다. 동생네가 가족여행 댕겨오면서 베트남 다낭 선물로 앵겨줬다. 다낭을 한두 번 간 것도... \",\n",
      "\t\t\t\"bloggername\":\"프롬레이의 여행잡화점\",\n",
      "\t\t\t\"bloggerlink\":\"blog.naver.com\\/fromrei8\",\n",
      "\t\t\t\"postdate\":\"20240226\"\n",
      "\t\t},\n",
      "\t\t{\n",
      "\t\t\t\"title\":\"베트남 달랏 반미 맛집 에그<b>커피<\\/b> 특별한 아침식사\",\n",
      "\t\t\t\"link\":\"https:\\/\\/blog.naver.com\\/withou122\\/223367501155\",\n",
      "\t\t\t\"description\":\"베트남 달랏 반미 맛집 에그<b>커피<\\/b> 특별한 아침식사 베트남 달랏 도착 3일째 되는 날까지 반미를 먹지... 이색 <b>커피<\\/b>를 파는 곳이었다니!! 에그<b>커피<\\/b>를 마시자는 나의 제안에 회사 동료들은 쌍화차처럼 노른자... \",\n",
      "\t\t\t\"bloggername\":\"여행하고 맛보는 자유부인♡\",\n",
      "\t\t\t\"bloggerlink\":\"blog.naver.com\\/withou122\",\n",
      "\t\t\t\"postdate\":\"20240228\"\n",
      "\t\t},\n",
      "\t\t{\n",
      "\t\t\t\"title\":\"메가<b>커피<\\/b> 메뉴 추천 큐브라떼 외 먹어봤어요\",\n",
      "\t\t\t\"link\":\"https:\\/\\/blog.naver.com\\/rladbrud8791\\/223367353586\",\n",
      "\t\t\t\"description\":\"<b>커피<\\/b>를 마시기위해 주위 테이크아웃 할만한 곳을 찾아보다 최근에 동네에 새롭게 오픈한 메가<b>커피<\\/b>를 방문하기로 했어요. 메뉴도 다양하고 맛있어서 좋아하는 편인데 주위에없어 자주접하지 못해서 아쉬웠는데... \",\n",
      "\t\t\t\"bloggername\":\"갱이랑 정이랑♡\",\n",
      "\t\t\t\"bloggerlink\":\"blog.naver.com\\/rladbrud8791\",\n",
      "\t\t\t\"postdate\":\"20240228\"\n",
      "\t\t}\n",
      "\t]\n",
      "}\n"
     ]
    }
   ],
   "source": [
    "# 네이버 검색 API 예제 - 블로그 검색\n",
    "import os\n",
    "import sys\n",
    "import urllib.request\n",
    "client_id = \"qm83FBIXGeZFWkhBTu3i\"\n",
    "client_secret = \"6c1vpFYusZ\"\n",
    "encText = urllib.parse.quote(\"커피\")\n",
    "url = \"https://openapi.naver.com/v1/search/blog?query=\" + encText # JSON 결과\n",
    "# url = \"https://openapi.naver.com/v1/search/blog.xml?query=\" + encText # XML 결과\n",
    "request = urllib.request.Request(url)\n",
    "request.add_header(\"X-Naver-Client-Id\",client_id)\n",
    "request.add_header(\"X-Naver-Client-Secret\",client_secret)\n",
    "response = urllib.request.urlopen(request)\n",
    "rescode = response.getcode()\n",
    "if(rescode==200):\n",
    "    response_body = response.read()\n",
    "    print(response_body.decode('utf-8'))\n",
    "else:\n",
    "    print(\"Error Code:\" + rescode)"
   ]
  },
  {
   "cell_type": "code",
   "execution_count": 13,
   "metadata": {},
   "outputs": [
    {
     "name": "stdout",
     "output_type": "stream",
     "text": [
      "{'lastBuildDate': 'Tue, 27 Feb 2024 19:14:36 +0900', 'total': 40753857, 'start': 1, 'display': 10, 'items': [{'title': '한성대 사만 <b>커피</b> 로스터스 라떼 (구 네임드 에스프레소)', 'link': 'https://blog.naver.com/nowwegom/223363998864', 'description': '나폴레옹 과자점에서 빵을 사고 나서 좀 쉬었다 가고 싶어 들렀던 사만 <b>커피</b> 로스터스다. 특유의 분위기도 좋았고 <b>커피</b>도 맛있었다. 하트시그널4에서 주미와 겨레가 방문했던 곳으로도 알려져 있다.... ', 'bloggername': '먹기 위해 사는 위장 환자', 'bloggerlink': 'blog.naver.com/nowwegom', 'postdate': '20240224'}, {'title': '성남 분당 에스프레소 <b>커피</b> 맛집 수내로', 'link': 'https://blog.naver.com/dubungstory/223363900789', 'description': '내부공간 수내로는 테이블 수가 많지는 않은 아담한 공간의 <b>커피</b>숍이에요. 인테리어는 그레이 블랙... 메뉴 메뉴는 크게 에스프레소, 시그니처, 일반 <b>커피</b>, 디저트 메뉴로 심플합니다. 저 이날 <b>커피</b>에 신나서... ', 'bloggername': '두붕어의 소소한 일상', 'bloggerlink': 'blog.naver.com/dubungstory', 'postdate': '20240224'}, {'title': '신방동카페 통정<b>커피</b>미식가 천안프렌치 토스트 굿', 'link': 'https://blog.naver.com/sensefull7/223365469276', 'description': '오랫만에 동네 맛난 <b>커피</b>맛집을 찾았다. 오며가며 보긴 했는데 잘 알진 못했던 곳~ 신방통정 카페 <b>커피</b>미식가! 오각형 외관 건물이 한눈에 들어온다. 통정지구는 비교적 주차가 편리한 편이여서 좋다. 매장... ', 'bloggername': \"sensefull's travel\", 'bloggerlink': 'blog.naver.com/sensefull7', 'postdate': '20240226'}, {'title': '강원도 당일치기 여행 강릉 <b>커피</b>커퍼 박물관', 'link': 'https://blog.naver.com/jbm993/223365004365', 'description': '강원도 당일치기 여행 강릉 <b>커피</b>커퍼 박물관 강릉 <b>커피</b>박물관 <b>커피</b>커퍼~ 매년 10월이면 강릉 경포 호수를 비롯 강릉시 일원에서 강릉 <b>커피</b>축제가 열리고 있어요. 축제때는 <b>커피</b> 명인들이 직접 로스팅하고 내려준... ', 'bloggername': '열씨미 카메라세상', 'bloggerlink': 'blog.naver.com/jbm993', 'postdate': '20240226'}, {'title': 'Feima600 페이마 전동<b>커피</b>그라인더 사용후기', 'link': 'https://blog.naver.com/skyskin/223366005267', 'description': '한달정도 사용한 페이마600 전동 <b>커피</b> 그라인더 사용기를 시작한다. 사진은 언박싱때 찍어둔 사진이다. 회사에서 5년동안 사용하던 내돈내산 개인그라인더를 대신해 회사에서 사용할 <b>커피</b> 그라인더를... ', 'bloggername': \"울산우쿨렐레전문점. '만디' 입니다.\", 'bloggerlink': 'blog.naver.com/skyskin', 'postdate': '20240226'}, {'title': '용인 동백 카페 올라<b>커피</b> - 디저트 맛있고 뷰 시원함', 'link': 'https://blog.naver.com/gec777/223364388169', 'description': '용인 동백 카페 올라<b>커피</b> 디저트 맛있었고 뷰 시원했음 SSul 이제 곧 아들 돌잔치가 다가온다. 돌잔치... 어디냐면...용인 동백 카페 올라<b>커피</b>. 위치&amp;주차 올라<b>커피</b> 위치. 동백지구 넘어 들어가는 곳에 있었다. 산을... ', 'bloggername': '후루꾸 인생중', 'bloggerlink': 'blog.naver.com/gec777', 'postdate': '20240225'}, {'title': '우붓 찐 맛집 Sala - <b>커피</b> 브런치 전부다 엄지척', 'link': 'https://blog.naver.com/likez2/223359041271', 'description': '우붓 찐 맛집 Sala <b>커피</b> 브런치 전부다 엄지척 안녕하세요! 이번에 우붓에 새로 오픈한 신상 카페가... 사실 저희는 아침일찍 <b>커피</b>에 빵이나 먹으러 간거였거든요? 근데 메뉴 보고, 저 조식메뉴 99K를 보고... ', 'bloggername': '오늘은 또 어디로-', 'bloggerlink': 'blog.naver.com/likez2', 'postdate': '20240227'}, {'title': '익산역 <b>커피</b>맛집 중 한 곳 <b>커피</b>벨트', 'link': 'https://blog.naver.com/hiroaya/223363624745', 'description': '<b>커피</b>벨트에 가게 될 운명이었나봐요. 익산역 뒤쪽 출입구에서 직진으로 쭉- 날씨가 좋았다면 걷는 건... 카페 <b>커피</b>벨트 영업시간은 오전 10시부터 오후 10시까지, 시간도 깔끔하네요. <b>커피</b>를 마실 수 있는... ', 'bloggername': '객관적 感想', 'bloggerlink': 'blog.naver.com/hiroaya', 'postdate': '20240224'}, {'title': '베트남 다낭 기념품 베트남위즐<b>커피</b> 선물 고맙소', 'link': 'https://blog.naver.com/fromrei8/223365276174', 'description': '너의 베트남 다낭 기념품 덕분에 베트남 위즐<b>커피</b> 마셔봤다 얼마 전 비행기 타고 우리 집으로 날라온 낯선 베트남 <b>커피</b>다. 동생네가 가족여행 댕겨오면서 베트남 다낭 선물로 앵겨줬다. 다낭을 한두 번 간 것도... ', 'bloggername': '프롬레이의 여행잡화점', 'bloggerlink': 'blog.naver.com/fromrei8', 'postdate': '20240226'}, {'title': '오르테 캡슐<b>커피</b>머신으로 간편하게 홈카페 즐기기', 'link': 'https://blog.naver.com/oasis817/223364703908', 'description': '집에서 즐기는 <b>커피</b> 한 잔의 여유 시간에 구애받지 않고 취향대로 <b>커피</b>를 즐길 수 있는 홈카페를 즐기는 분들 많으시죠? 그렇다 보니 다양한 홈 카페 용품들이 있는데요 오늘은 그중에서 다양한 기능과 합리적인... ', 'bloggername': '단정한 살림스케치', 'bloggerlink': 'blog.naver.com/oasis817', 'postdate': '20240225'}]}\n"
     ]
    }
   ],
   "source": [
    "import json\n",
    "text_data = response_body.decode('utf-8')\n",
    "json_data = json.loads(text_data)\n",
    "print(json_data)"
   ]
  },
  {
   "cell_type": "code",
   "execution_count": 14,
   "metadata": {},
   "outputs": [
    {
     "data": {
      "text/plain": [
       "[{'title': '한성대 사만 <b>커피</b> 로스터스 라떼 (구 네임드 에스프레소)',\n",
       "  'link': 'https://blog.naver.com/nowwegom/223363998864',\n",
       "  'description': '나폴레옹 과자점에서 빵을 사고 나서 좀 쉬었다 가고 싶어 들렀던 사만 <b>커피</b> 로스터스다. 특유의 분위기도 좋았고 <b>커피</b>도 맛있었다. 하트시그널4에서 주미와 겨레가 방문했던 곳으로도 알려져 있다.... ',\n",
       "  'bloggername': '먹기 위해 사는 위장 환자',\n",
       "  'bloggerlink': 'blog.naver.com/nowwegom',\n",
       "  'postdate': '20240224'},\n",
       " {'title': '성남 분당 에스프레소 <b>커피</b> 맛집 수내로',\n",
       "  'link': 'https://blog.naver.com/dubungstory/223363900789',\n",
       "  'description': '내부공간 수내로는 테이블 수가 많지는 않은 아담한 공간의 <b>커피</b>숍이에요. 인테리어는 그레이 블랙... 메뉴 메뉴는 크게 에스프레소, 시그니처, 일반 <b>커피</b>, 디저트 메뉴로 심플합니다. 저 이날 <b>커피</b>에 신나서... ',\n",
       "  'bloggername': '두붕어의 소소한 일상',\n",
       "  'bloggerlink': 'blog.naver.com/dubungstory',\n",
       "  'postdate': '20240224'},\n",
       " {'title': '신방동카페 통정<b>커피</b>미식가 천안프렌치 토스트 굿',\n",
       "  'link': 'https://blog.naver.com/sensefull7/223365469276',\n",
       "  'description': '오랫만에 동네 맛난 <b>커피</b>맛집을 찾았다. 오며가며 보긴 했는데 잘 알진 못했던 곳~ 신방통정 카페 <b>커피</b>미식가! 오각형 외관 건물이 한눈에 들어온다. 통정지구는 비교적 주차가 편리한 편이여서 좋다. 매장... ',\n",
       "  'bloggername': \"sensefull's travel\",\n",
       "  'bloggerlink': 'blog.naver.com/sensefull7',\n",
       "  'postdate': '20240226'},\n",
       " {'title': '강원도 당일치기 여행 강릉 <b>커피</b>커퍼 박물관',\n",
       "  'link': 'https://blog.naver.com/jbm993/223365004365',\n",
       "  'description': '강원도 당일치기 여행 강릉 <b>커피</b>커퍼 박물관 강릉 <b>커피</b>박물관 <b>커피</b>커퍼~ 매년 10월이면 강릉 경포 호수를 비롯 강릉시 일원에서 강릉 <b>커피</b>축제가 열리고 있어요. 축제때는 <b>커피</b> 명인들이 직접 로스팅하고 내려준... ',\n",
       "  'bloggername': '열씨미 카메라세상',\n",
       "  'bloggerlink': 'blog.naver.com/jbm993',\n",
       "  'postdate': '20240226'},\n",
       " {'title': 'Feima600 페이마 전동<b>커피</b>그라인더 사용후기',\n",
       "  'link': 'https://blog.naver.com/skyskin/223366005267',\n",
       "  'description': '한달정도 사용한 페이마600 전동 <b>커피</b> 그라인더 사용기를 시작한다. 사진은 언박싱때 찍어둔 사진이다. 회사에서 5년동안 사용하던 내돈내산 개인그라인더를 대신해 회사에서 사용할 <b>커피</b> 그라인더를... ',\n",
       "  'bloggername': \"울산우쿨렐레전문점. '만디' 입니다.\",\n",
       "  'bloggerlink': 'blog.naver.com/skyskin',\n",
       "  'postdate': '20240226'},\n",
       " {'title': '용인 동백 카페 올라<b>커피</b> - 디저트 맛있고 뷰 시원함',\n",
       "  'link': 'https://blog.naver.com/gec777/223364388169',\n",
       "  'description': '용인 동백 카페 올라<b>커피</b> 디저트 맛있었고 뷰 시원했음 SSul 이제 곧 아들 돌잔치가 다가온다. 돌잔치... 어디냐면...용인 동백 카페 올라<b>커피</b>. 위치&amp;주차 올라<b>커피</b> 위치. 동백지구 넘어 들어가는 곳에 있었다. 산을... ',\n",
       "  'bloggername': '후루꾸 인생중',\n",
       "  'bloggerlink': 'blog.naver.com/gec777',\n",
       "  'postdate': '20240225'},\n",
       " {'title': '우붓 찐 맛집 Sala - <b>커피</b> 브런치 전부다 엄지척',\n",
       "  'link': 'https://blog.naver.com/likez2/223359041271',\n",
       "  'description': '우붓 찐 맛집 Sala <b>커피</b> 브런치 전부다 엄지척 안녕하세요! 이번에 우붓에 새로 오픈한 신상 카페가... 사실 저희는 아침일찍 <b>커피</b>에 빵이나 먹으러 간거였거든요? 근데 메뉴 보고, 저 조식메뉴 99K를 보고... ',\n",
       "  'bloggername': '오늘은 또 어디로-',\n",
       "  'bloggerlink': 'blog.naver.com/likez2',\n",
       "  'postdate': '20240227'},\n",
       " {'title': '익산역 <b>커피</b>맛집 중 한 곳 <b>커피</b>벨트',\n",
       "  'link': 'https://blog.naver.com/hiroaya/223363624745',\n",
       "  'description': '<b>커피</b>벨트에 가게 될 운명이었나봐요. 익산역 뒤쪽 출입구에서 직진으로 쭉- 날씨가 좋았다면 걷는 건... 카페 <b>커피</b>벨트 영업시간은 오전 10시부터 오후 10시까지, 시간도 깔끔하네요. <b>커피</b>를 마실 수 있는... ',\n",
       "  'bloggername': '객관적 感想',\n",
       "  'bloggerlink': 'blog.naver.com/hiroaya',\n",
       "  'postdate': '20240224'},\n",
       " {'title': '베트남 다낭 기념품 베트남위즐<b>커피</b> 선물 고맙소',\n",
       "  'link': 'https://blog.naver.com/fromrei8/223365276174',\n",
       "  'description': '너의 베트남 다낭 기념품 덕분에 베트남 위즐<b>커피</b> 마셔봤다 얼마 전 비행기 타고 우리 집으로 날라온 낯선 베트남 <b>커피</b>다. 동생네가 가족여행 댕겨오면서 베트남 다낭 선물로 앵겨줬다. 다낭을 한두 번 간 것도... ',\n",
       "  'bloggername': '프롬레이의 여행잡화점',\n",
       "  'bloggerlink': 'blog.naver.com/fromrei8',\n",
       "  'postdate': '20240226'},\n",
       " {'title': '오르테 캡슐<b>커피</b>머신으로 간편하게 홈카페 즐기기',\n",
       "  'link': 'https://blog.naver.com/oasis817/223364703908',\n",
       "  'description': '집에서 즐기는 <b>커피</b> 한 잔의 여유 시간에 구애받지 않고 취향대로 <b>커피</b>를 즐길 수 있는 홈카페를 즐기는 분들 많으시죠? 그렇다 보니 다양한 홈 카페 용품들이 있는데요 오늘은 그중에서 다양한 기능과 합리적인... ',\n",
       "  'bloggername': '단정한 살림스케치',\n",
       "  'bloggerlink': 'blog.naver.com/oasis817',\n",
       "  'postdate': '20240225'}]"
      ]
     },
     "execution_count": 14,
     "metadata": {},
     "output_type": "execute_result"
    }
   ],
   "source": [
    "json_data[\"items\"]"
   ]
  },
  {
   "cell_type": "code",
   "execution_count": 2,
   "metadata": {},
   "outputs": [
    {
     "ename": "NameError",
     "evalue": "name 'json_data' is not defined",
     "output_type": "error",
     "traceback": [
      "\u001b[1;31m---------------------------------------------------------------------------\u001b[0m",
      "\u001b[1;31mNameError\u001b[0m                                 Traceback (most recent call last)",
      "Cell \u001b[1;32mIn[2], line 2\u001b[0m\n\u001b[0;32m      1\u001b[0m result_data \u001b[38;5;241m=\u001b[39m []\n\u001b[1;32m----> 2\u001b[0m \u001b[38;5;28;01mfor\u001b[39;00m x \u001b[38;5;129;01min\u001b[39;00m \u001b[43mjson_data\u001b[49m[\u001b[38;5;124m\"\u001b[39m\u001b[38;5;124mitems\u001b[39m\u001b[38;5;124m\"\u001b[39m]:\n\u001b[0;32m      3\u001b[0m     \u001b[38;5;28mprint\u001b[39m(x[\u001b[38;5;124m'\u001b[39m\u001b[38;5;124mdescription\u001b[39m\u001b[38;5;124m'\u001b[39m])\n",
      "\u001b[1;31mNameError\u001b[0m: name 'json_data' is not defined"
     ]
    }
   ],
   "source": [
    "result_data = []\n",
    "for x in json_data[\"items\"]:\n",
    "    print(x['description'])\n",
    "    resuolt_data.append(x['description'])"
   ]
  },
  {
   "cell_type": "code",
   "execution_count": null,
   "metadata": {},
   "outputs": [],
   "source": []
  }
 ],
 "metadata": {
  "kernelspec": {
   "display_name": "sesac2024",
   "language": "python",
   "name": "python3"
  },
  "language_info": {
   "codemirror_mode": {
    "name": "ipython",
    "version": 3
   },
   "file_extension": ".py",
   "mimetype": "text/x-python",
   "name": "python",
   "nbconvert_exporter": "python",
   "pygments_lexer": "ipython3",
   "version": "3.10.13"
  }
 },
 "nbformat": 4,
 "nbformat_minor": 2
}
